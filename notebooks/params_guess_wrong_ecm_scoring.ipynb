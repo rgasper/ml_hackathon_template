{
 "cells": [
  {
   "cell_type": "code",
   "execution_count": null,
   "id": "3c58c3c1",
   "metadata": {},
   "outputs": [],
   "source": [
    "from eis.EISDataIO import eis_dataframe_from_csv, ECM_from_raw_strings\n",
    "from eis.EISPlot import plot_eis\n",
    "from eis.scoring import circuit_CV_optimized_score\n",
    "\n",
    "from os import path"
   ]
  },
  {
   "cell_type": "code",
   "execution_count": null,
   "id": "c2bbc7e4",
   "metadata": {},
   "outputs": [],
   "source": [
    "# loading training data\n",
    "\n",
    "# if you are on a windows machine un-comment the following line to get the path to training data\n",
    "# here = !echo %cd%\n",
    "\n",
    "# if you are on a mac/ unix machine un-comment the following line to get the path to training data\n",
    "here = !pwd\n",
    "\n",
    "train_data_path = path.join(path.dirname(here[0]), \"train_data.csv\")\n",
    "eis_data = eis_dataframe_from_csv(train_data_path)"
   ]
  },
  {
   "cell_type": "code",
   "execution_count": null,
   "id": "6839f1b1",
   "metadata": {},
   "outputs": [],
   "source": [
    "# Try fitting a circuit model w/ perfect initial guesses\n",
    "sample = eis_data.loc[eis_data.Circuit == \"L-R-RCPE-RCPE\"].iloc[0,:]\n",
    "circuit = ECM_from_raw_strings(sample.Circuit, sample.Parameters)\n",
    "plot_eis(sample.freq, sample.Z, ECM=circuit, title=sample.Circuit + \" before fit\")\n",
    "circuit.fit(sample.freq, sample.Z)\n",
    "plot_eis(sample.freq, sample.Z, ECM=circuit, title=sample.Circuit + \" after fit\")\n",
    "\n",
    "circuit = ECM_from_raw_strings(sample.Circuit, sample.Parameters)\n",
    "print(f\"perfect circuit guess cv score: {circuit_CV_optimized_score(circuit, sample.freq, sample.Z)}\")"
   ]
  },
  {
   "cell_type": "code",
   "execution_count": null,
   "id": "ce9019cd",
   "metadata": {},
   "outputs": [],
   "source": [
    "# Try scoring model w/ incorrect ECM using cross validation\n",
    "sample2 = eis_data.loc[eis_data.Circuit == \"L-R-RCPE-RCPE-RCPE\"].iloc[0,:]\n",
    "circuit2 = ECM_from_raw_strings(sample2.Circuit, sample2.Parameters)\n",
    "plot_eis(sample.freq, sample.Z, ECM=circuit2, title=sample2.Circuit + \" too many RCPE before fit\")\n",
    "print(f\"wrong ecm cv score: {circuit_CV_optimized_score(circuit2, sample.freq, sample.Z)}\")\n",
    "circuit2.fit(sample.freq, sample.Z)\n",
    "plot_eis(sample.freq, sample.Z, ECM=circuit2, title=sample2.Circuit + \" too many RCPE after fit\")"
   ]
  },
  {
   "cell_type": "code",
   "execution_count": null,
   "id": "c2e93656",
   "metadata": {},
   "outputs": [],
   "source": [
    "# Try scoring model w/ incorrect ECM using cross validation\n",
    "sample2 = eis_data.loc[eis_data.Circuit == \"L-R-RCPE\"].iloc[0,:]\n",
    "circuit2 = ECM_from_raw_strings(sample2.Circuit, sample2.Parameters)\n",
    "plot_eis(sample.freq, sample.Z, ECM=circuit2, title=sample2.Circuit + \" too few RCPE before fit\")\n",
    "print(f\"wrong ecm cv score: {circuit_CV_optimized_score(circuit2, sample.freq, sample.Z)}\")\n",
    "circuit2.fit(sample.freq, sample.Z)\n",
    "plot_eis(sample.freq, sample.Z, ECM=circuit2, title=sample2.Circuit + \" too few RCPE after fit\")"
   ]
  }
 ],
 "metadata": {
  "kernelspec": {
   "display_name": "Python 3 (ipykernel)",
   "language": "python",
   "name": "python3"
  },
  "language_info": {
   "codemirror_mode": {
    "name": "ipython",
    "version": 3
   },
   "file_extension": ".py",
   "mimetype": "text/x-python",
   "name": "python",
   "nbconvert_exporter": "python",
   "pygments_lexer": "ipython3",
   "version": "3.10.0"
  }
 },
 "nbformat": 4,
 "nbformat_minor": 5
}
