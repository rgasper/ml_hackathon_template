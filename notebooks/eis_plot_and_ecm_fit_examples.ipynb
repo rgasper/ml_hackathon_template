{
 "cells": [
  {
   "cell_type": "code",
   "execution_count": null,
   "id": "27c11d5e",
   "metadata": {},
   "outputs": [],
   "source": [
    "from eis.EISDataIO import eis_dataframe_from_csv, ECM_from_raw_strings\n",
    "from eis.EISPlot import plot_eis\n",
    "\n",
    "from os import path\n",
    "import logging"
   ]
  },
  {
   "cell_type": "code",
   "execution_count": null,
   "id": "cbeed4c4",
   "metadata": {},
   "outputs": [],
   "source": [
    "# loading training data\n",
    "\n",
    "# if you are on a windows machine un-comment the following line to get the path to training data\n",
    "# here = !echo %cd%\n",
    "\n",
    "# if you are on a mac/ unix machine un-comment the following line to get the path to training data\n",
    "# here = !pwd\n",
    "\n",
    "train_data_path = path.join(path.dirname(here[0]), \"train_data.csv\")\n",
    "eis_data = eis_dataframe_from_csv(train_data_path)"
   ]
  },
  {
   "cell_type": "code",
   "execution_count": null,
   "id": "7ec9a1a0",
   "metadata": {},
   "outputs": [],
   "source": [
    "# plot data w/o circuit model\n",
    "sample = eis_data.loc[eis_data.Circuit == \"RC-G-G\"].iloc[0]\n",
    "frequencies = sample.freq\n",
    "impedances = sample.Z\n",
    "plot_eis(frequencies, impedances)"
   ]
  },
  {
   "cell_type": "code",
   "execution_count": null,
   "id": "53b1e313",
   "metadata": {},
   "outputs": [],
   "source": [
    "# plot data w/ circuit model\n",
    "sample = eis_data.loc[eis_data.Circuit == \"RC-G-G\"].iloc[0]\n",
    "frequencies = sample.freq\n",
    "impedances = sample.Z\n",
    "print(sample.Parameters)\n",
    "circuit = ECM_from_raw_strings(sample.Circuit, sample.Parameters)\n",
    "plot_eis(frequencies, impedances, ECM=circuit, title=sample.Circuit)"
   ]
  },
  {
   "cell_type": "code",
   "execution_count": null,
   "id": "6632db72",
   "metadata": {},
   "outputs": [],
   "source": [
    "# Demonstrate Optimizing a circuit model\n",
    "sample = eis_data.loc[2, :]\n",
    "frequencies = sample.freq\n",
    "impedances = sample.Z\n",
    "circuit = ECM_from_raw_strings(sample.Circuit, sample.Parameters)\n",
    "plot_eis(frequencies, impedances, ECM=circuit, title=sample.Circuit + \" before fit\")\n",
    "print([x for x in zip(circuit.param_names, circuit.param_values)])\n",
    "print([x for x in zip(circuit.param_names, circuit.param_fitting_bounds[0], circuit.param_fitting_bounds[1])])\n",
    "circuit.fit(frequencies, impedances)\n",
    "plot_eis(frequencies, impedances, ECM=circuit, title=sample.Circuit + \" after fit\")\n",
    "print([x for x in zip(circuit.param_names, circuit.param_values)])\n"
   ]
  },
  {
   "cell_type": "code",
   "execution_count": null,
   "id": "670f491e",
   "metadata": {},
   "outputs": [],
   "source": [
    "# Plot first example of each circuit type with the circuit model\n",
    "for circuit_name in eis_data.Circuit.unique():\n",
    "    try:\n",
    "        sample = eis_data.loc[eis_data.Circuit == circuit_name].iloc[0]\n",
    "        frequencies = sample.freq\n",
    "        impedances = sample.Z\n",
    "        circuit = ECM_from_raw_strings(sample.Circuit, sample.Parameters)\n",
    "        plot_eis(frequencies, impedances, ECM=circuit, title=sample.Circuit)\n",
    "    except:\n",
    "        logging.exception(f\"unable to simulate circuit: {circuit_name}\")"
   ]
  }
 ],
 "metadata": {
  "kernelspec": {
   "display_name": "Python 3 (ipykernel)",
   "language": "python",
   "name": "python3"
  },
  "language_info": {
   "codemirror_mode": {
    "name": "ipython",
    "version": 3
   },
   "file_extension": ".py",
   "mimetype": "text/x-python",
   "name": "python",
   "nbconvert_exporter": "python",
   "pygments_lexer": "ipython3",
   "version": "3.10.0"
  }
 },
 "nbformat": 4,
 "nbformat_minor": 5
}
