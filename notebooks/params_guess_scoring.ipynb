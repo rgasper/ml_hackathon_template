{
 "cells": [
  {
   "cell_type": "markdown",
   "id": "498db3fa",
   "metadata": {},
   "source": []
  },
  {
   "cell_type": "code",
   "execution_count": null,
   "id": "70a9869b",
   "metadata": {},
   "outputs": [],
   "source": [
    "from eis.EISDataIO import eis_dataframe_from_csv, ECM_from_raw_strings\n",
    "from eis.EISPlot import plot_eis\n",
    "from eis.scoring import circuit_CV_optimized_score\n",
    "\n",
    "from os import path"
   ]
  },
  {
   "cell_type": "code",
   "execution_count": null,
   "id": "dd4acb3c",
   "metadata": {},
   "outputs": [],
   "source": [
    "# loading training data\n",
    "\n",
    "# if you are on a windows machine un-comment the following line to get the path to training data\n",
    "# here = !echo %cd%\n",
    "\n",
    "# if you are on a mac/ unix machine un-comment the following line to get the path to training data\n",
    "# here = !pwd\n",
    "\n",
    "train_data_path = path.join(path.dirname(here[0]), \"train_data.csv\")\n",
    "eis_data = eis_dataframe_from_csv(train_data_path)"
   ]
  },
  {
   "cell_type": "code",
   "execution_count": null,
   "id": "a87525bc",
   "metadata": {},
   "outputs": [],
   "source": [
    "# Try scoring model w/ perfect initial guesses using cross validation\n",
    "sample = eis_data.loc[eis_data.Circuit == \"Rs_Ws\"].iloc[0,:]\n",
    "frequencies = sample.freq\n",
    "impedances = sample.Z\n",
    "circuit = ECM_from_raw_strings(sample.Circuit, sample.Parameters)\n",
    "print(f\"perfect circuit guess cv score: {circuit_CV_optimized_score(circuit, frequencies, impedances)}\")\n",
    "plot_eis(sample.freq, sample.Z, ECM=circuit, title=sample.Circuit)\n",
    "print(sample.Parameters)"
   ]
  },
  {
   "cell_type": "code",
   "execution_count": null,
   "id": "0549a79a",
   "metadata": {},
   "outputs": [],
   "source": [
    "# Try scoring model w/ good initial guesses\n",
    "sample = eis_data.loc[eis_data.Circuit == \"Rs_Ws\"].iloc[0,:]\n",
    "frequencies = sample.freq\n",
    "impedances = sample.Z\n",
    "good_params = \"R1:20,W1_R:250,W1_T:0.9,W1_p:2\"\n",
    "circuit = ECM_from_raw_strings(sample.Circuit, good_params)\n",
    "plot_eis(frequencies, impedances, ECM=circuit, title=sample.Circuit + \" good params\")\n",
    "print(f\"good circuit guess cv score: {circuit_CV_optimized_score(circuit, frequencies, impedances)}\")\n",
    "circuit.fit(frequencies, impedances)\n",
    "plot_eis(frequencies, impedances, ECM=circuit, title=sample.Circuit + \" after fit\")\n",
    "print([x for x in zip(circuit.param_names, circuit.param_values)])"
   ]
  },
  {
   "cell_type": "code",
   "execution_count": null,
   "id": "3cfe3a73",
   "metadata": {},
   "outputs": [],
   "source": [
    "# Try scoring model w/ slightly not good initial guesses\n",
    "sample = eis_data.loc[eis_data.Circuit == \"Rs_Ws\"].iloc[0,:]\n",
    "frequencies = sample.freq\n",
    "impedances = sample.Z\n",
    "params = \"R1:50,W1_R:50,W1_T:0.5,W1_p:4\"\n",
    "circuit = ECM_from_raw_strings(sample.Circuit, params)\n",
    "plot_eis(frequencies, impedances, ECM=circuit, title=sample.Circuit + \" getting worse params\")\n",
    "print(f\"getting worse circuit guess cv score: {circuit_CV_optimized_score(circuit, frequencies, impedances)}\")\n",
    "circuit.fit(frequencies, impedances)\n",
    "plot_eis(frequencies, impedances, ECM=circuit, title=sample.Circuit + \" after fit\")\n",
    "print([x for x in zip(circuit.param_names, circuit.param_values)])"
   ]
  },
  {
   "cell_type": "code",
   "execution_count": null,
   "id": "79d93868",
   "metadata": {},
   "outputs": [],
   "source": [
    "# Try scoring model w/ worse initial guesses\n",
    "sample = eis_data.loc[eis_data.Circuit == \"Rs_Ws\"].iloc[0,:]\n",
    "frequencies = sample.freq\n",
    "impedances = sample.Z\n",
    "params = \"R1:1000,W1_R:1000,W1_T:0.00001,W1_p:6.5\"\n",
    "circuit = ECM_from_raw_strings(sample.Circuit, params)\n",
    "plot_eis(frequencies, impedances, ECM=circuit, title=sample.Circuit + \" worse params\")\n",
    "print(f\"getting worse circuit guess cv score: {circuit_CV_optimized_score(circuit, frequencies, impedances)}\")\n",
    "circuit.fit(frequencies, impedances)\n",
    "plot_eis(frequencies, impedances, ECM=circuit, title=sample.Circuit + \" after fit\")\n",
    "print([x for x in zip(circuit.param_names, circuit.param_values)])"
   ]
  },
  {
   "cell_type": "code",
   "execution_count": null,
   "id": "fcb4df31",
   "metadata": {},
   "outputs": [],
   "source": [
    "# Try scoring model w/ terrible initial guesses\n",
    "sample = eis_data.loc[eis_data.Circuit == \"Rs_Ws\"].iloc[0,:]\n",
    "bad_params = \"R1:10000,W1_R:10000,W1_T:1,W1_p:6.5\"\n",
    "circuit = ECM_from_raw_strings(sample.Circuit, bad_params)\n",
    "plot_eis(sample.freq, sample.Z, ECM=circuit, title=sample.Circuit + \" bad params\")\n",
    "print(f\"terrible circuit guess cv score: {circuit_CV_optimized_score(circuit, sample.freq, sample.Z)}\")\n",
    "\n",
    "circuit = ECM_from_raw_strings(sample.Circuit, bad_params)\n",
    "circuit.fit(sample.freq, sample.Z)\n",
    "plot_eis(sample.freq, sample.Z, ECM=circuit, title=sample.Circuit + \" after fit\")\n",
    "print([x for x in zip(circuit.param_names, circuit.param_values)])"
   ]
  }
 ],
 "metadata": {
  "kernelspec": {
   "display_name": "Python 3 (ipykernel)",
   "language": "python",
   "name": "python3"
  },
  "language_info": {
   "codemirror_mode": {
    "name": "ipython",
    "version": 3
   },
   "file_extension": ".py",
   "mimetype": "text/x-python",
   "name": "python",
   "nbconvert_exporter": "python",
   "pygments_lexer": "ipython3",
   "version": "3.10.0"
  }
 },
 "nbformat": 4,
 "nbformat_minor": 5
}
